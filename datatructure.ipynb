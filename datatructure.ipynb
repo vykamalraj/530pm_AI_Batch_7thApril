{
 "cells": [
  {
   "cell_type": "markdown",
   "id": "d69c8de4-1961-46f8-900b-ce596a7cc208",
   "metadata": {},
   "source": [
    "Datastructure"
   ]
  },
  {
   "cell_type": "code",
   "execution_count": null,
   "id": "9212c3e9",
   "metadata": {},
   "outputs": [],
   "source": [
    "l = [10,20,30]\n",
    "l.append(40)\n",
    "l.append(50)\n",
    "l.append(60)\n",
    "print(l)\n",
    "l.append(10)\n",
    "print(l)\n",
    "l2=l.copy()\n",
    "l2.append('nit')\n",
    "print(l2)"
   ]
  },
  {
   "cell_type": "markdown",
   "id": "db66f626",
   "metadata": {},
   "source": [
    "April 22nd"
   ]
  },
  {
   "cell_type": "code",
   "execution_count": null,
   "id": "4e51a37c",
   "metadata": {},
   "outputs": [],
   "source": [
    "l = [10,20,30]\n",
    "l.append(40)\n",
    "l.append(50)\n",
    "l.append(60)\n",
    "#print(l)\n",
    "l.append(10)\n",
    "#print(l)\n",
    "l2=l.copy()\n",
    "l2.append('nit')\n",
    "\n",
    "l1=[10,20,30,40,50,60,10,2.3,'nit',(1+2j),[1,2,3]]\n",
    "#l1.count(10)\n",
    "l1.__len__()\n",
    "l1.append(10)\n",
    "l1.insert(2,10)\n",
    "print(l1)"
   ]
  },
  {
   "cell_type": "markdown",
   "id": "e7797b6d",
   "metadata": {},
   "source": [
    "April 23"
   ]
  },
  {
   "cell_type": "code",
   "execution_count": 20,
   "id": "95932f31",
   "metadata": {},
   "outputs": [
    {
     "name": "stdout",
     "output_type": "stream",
     "text": [
      "['a', 'b', 'c', 'd', 'e', 'f', 'g', 'h', 'i', 'j', 'z']\n"
     ]
    },
    {
     "data": {
      "text/plain": [
       "True"
      ]
     },
     "execution_count": 20,
     "metadata": {},
     "output_type": "execute_result"
    }
   ],
   "source": [
    "l6=['z','a','b','c','d','e','f','g','h','i','j']\n",
    "l6.sort()   \n",
    "print(l6)\n",
    "l6.sort(reverse=True)   \n",
    "#for i in l6: print(i)\n",
    "#for i in enumerate(l6): print(i)\n",
    "l6.append(0)\n",
    "#l6.append(1)\n",
    "all(l6)\n",
    "any(l6)"
   ]
  },
  {
   "cell_type": "code",
   "execution_count": 2,
   "id": "7158da9e",
   "metadata": {},
   "outputs": [
    {
     "data": {
      "text/plain": [
       "('a', 'b', 'c', 'd', 'e', 'f', 'g', 'h', 'i', 'j')"
      ]
     },
     "execution_count": 2,
     "metadata": {},
     "output_type": "execute_result"
    }
   ],
   "source": [
    "t1=(10,20,30,40,50,60)\n",
    "t2=('a','b','c','d','e','f','g','h','i','j')\n",
    "t2\n"
   ]
  },
  {
   "cell_type": "markdown",
   "id": "4bc23449",
   "metadata": {},
   "source": [
    "April 25th"
   ]
  },
  {
   "cell_type": "code",
   "execution_count": 9,
   "id": "7c454608",
   "metadata": {},
   "outputs": [
    {
     "name": "stdout",
     "output_type": "stream",
     "text": [
      "{1, 2, 3, 4, 5}\n",
      "{4, 5, 6, 7, 8}\n",
      "{8, 9, 10}\n",
      "{1, 2, 3}\n",
      "{'a': 1, 'b': 2, 'c': 4}\n",
      "1\n",
      "a : 1\n",
      "b : 2\n",
      "c : 4\n"
     ]
    }
   ],
   "source": [
    "A = {1,2,3,4,5}\n",
    "B = {4,5,6,7,8}\n",
    "C = {8,9,10}\n",
    "print(A)\n",
    "print(B)\n",
    "print(C)\n",
    "\n",
    "# Example of a set\n",
    "my_set = {1, 2, 3, 3}\n",
    "print(my_set)  # Output: {1, 2, 3} - Duplicates are automatically removed\n",
    "\n",
    "# Example of a dictionary\n",
    "my_dict = {\"a\": 1, \"b\": 2, \"c\": 3,\"c\": 4}\n",
    "print(my_dict)  # Output: {'a': 1, 'b': 2, 'c': 3}\n",
    "print(my_dict[\"a\"]) # Output: 1 - Accessing value by key\n",
    "for i in my_dict:\n",
    "    print(i, ':',my_dict[i])  # Output: a b c - Iterating over keys"
   ]
  },
  {
   "cell_type": "code",
   "execution_count": null,
   "id": "63632618",
   "metadata": {},
   "outputs": [],
   "source": []
  }
 ],
 "metadata": {
  "kernelspec": {
   "display_name": "Python 3",
   "language": "python",
   "name": "python3"
  },
  "language_info": {
   "codemirror_mode": {
    "name": "ipython",
    "version": 3
   },
   "file_extension": ".py",
   "mimetype": "text/x-python",
   "name": "python",
   "nbconvert_exporter": "python",
   "pygments_lexer": "ipython3",
   "version": "3.13.3"
  }
 },
 "nbformat": 4,
 "nbformat_minor": 5
}
